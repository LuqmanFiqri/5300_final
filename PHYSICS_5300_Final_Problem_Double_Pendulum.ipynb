{
  "nbformat": 4,
  "nbformat_minor": 0,
  "metadata": {
    "colab": {
      "name": "PHYSICS_5300_Final_Problem_Double_Pendulum.ipynb",
      "provenance": [],
      "authorship_tag": "ABX9TyMQpTFqSK4QSzAMaqqeXt5M",
      "include_colab_link": true
    },
    "kernelspec": {
      "name": "python3",
      "display_name": "Python 3"
    },
    "language_info": {
      "name": "python"
    }
  },
  "cells": [
    {
      "cell_type": "markdown",
      "metadata": {
        "id": "view-in-github",
        "colab_type": "text"
      },
      "source": [
        "<a href=\"https://colab.research.google.com/github/LuqmanFiqri/5300_final/blob/main/PHYSICS_5300_Final_Problem_Double_Pendulum.ipynb\" target=\"_parent\"><img src=\"https://colab.research.google.com/assets/colab-badge.svg\" alt=\"Open In Colab\"/></a>"
      ]
    },
    {
      "cell_type": "markdown",
      "source": [
        "## Double Pendulum"
      ],
      "metadata": {
        "id": "ccuxT42PExCK"
      }
    },
    {
      "cell_type": "markdown",
      "source": [
        "This is a notebook which solves the double pendulum problem using Euler-Lagrange's Equations.\n",
        "\n",
        "The generalized coordinates for this problem is $\\phi_1$ and $\\phi_2$.\n",
        "\n"
      ],
      "metadata": {
        "id": "xoxBMk2HE8cT"
      }
    },
    {
      "cell_type": "markdown",
      "source": [
        "## Euler-Lagrange's Equations"
      ],
      "metadata": {
        "id": "-qr-9dUWMVAk"
      }
    },
    {
      "cell_type": "markdown",
      "source": [
        "The Lagrangian correspond to the system:\n",
        "\n",
        "\\\\\n",
        "$\\begin{align}\n",
        "  \\mathcal{L} = T - U\n",
        "\\end{align}$\n",
        "\n",
        "\\\\\n",
        "$\\begin{align}\n",
        "  T = \\frac{1}{2}(m_1 + m_2) L^2_1 \\dot\\phi_1^2 + m_2L_1L_2\\dot\\phi_1\\dot\\phi_2\\cos(\\phi_1-\\phi_2) + \\frac{1}{2}m_2 L^2_2\\dot\\phi_2^2\n",
        "\\end{align}$\n",
        "\n",
        "\\\\\n",
        "$\\begin{align}\n",
        "  U = (m_1 + m_2) g L_1 (1-\\cos\\phi_1) + m_2 g L_2 (1-\\cos\\phi_2)\n",
        "\\end{align}$\n",
        "\n",
        "\\\\\n",
        "$\\begin{align}\n",
        "  \\mathcal{L} = \\frac{1}{2}(m_1 + m_2) L^2_1 \\dot\\phi_1^2 + m_2L_1L_2\\dot\\phi_1\\dot\\phi_2\\cos(\\phi_1-\\phi_2) + \\frac{1}{2}m_2 L^2_2 \\dot\\phi_2^2 - (m_1 + m_2) g L_1 (1-\\cos\\phi_1) - m_2 g L_2 (1-\\cos\\phi_2)\n",
        "      \\;.\n",
        "\\end{align}$"
      ],
      "metadata": {
        "id": "hBnHIt3rLjaI"
      }
    },
    {
      "cell_type": "markdown",
      "source": [
        "The Euler-Lagrange Equations:\n",
        "\n",
        "\\\\\n",
        "$\\begin{align}\n",
        "   \\frac{d}{dt}\\frac{\\partial\\mathcal{L}}{\\partial \\dot\\phi_1} =\\frac{\\partial\\mathcal L}{\\partial\\phi_1}\n",
        "   \\quad\\Longrightarrow\\quad (m_1+m_2)L_1^2\\ddot\\phi_1+m_2L_1L_2\\ddot\\phi_2\\cos(\\phi_1-\\phi_2) + m_2L_1L_2\\dot\\phi_2^2\\sin(\\phi_1-\\phi_2) = -(m_1+m_2)gL_1\\sin\\phi_1\n",
        "\\end{align}$\n",
        "\n",
        "\\\\\n",
        "$\\begin{align}\n",
        "\\frac{\\partial\\mathcal L}{\\partial\\phi_1} = -m_2L_1L_2\\dot\\phi_1\\dot\\phi_2\\sin(\\phi_1-\\phi_2)-(m_1+m_2)gL_1\\sin\\phi_1\n",
        "\\end{align}$\n",
        "\n",
        "\\\\\n",
        "$\\begin{align}\n",
        "   \\frac{\\partial\\mathcal{L}}{\\partial \\dot\\phi_1} =(m_1+m_2)L_1^2\\dot\\phi_1+m_2L_1L_2\\dot\\phi_2\\cos(\\phi_1-\\phi_2) \n",
        "\\end{align}$\n",
        "\n",
        "\\\\\n",
        "$\\begin{align}\n",
        "   \\frac{d}{dt}\\frac{\\partial\\mathcal{L}}{\\partial \\dot\\phi_1} =(m_1+m_2)L_1^2\\ddot\\phi_1+m_2L_1L_2\\ddot\\phi_2\\cos(\\phi_1-\\phi_2) -m_2L_1L_2\\dot\\phi_1\\dot\\phi_2\\sin(\\phi_1-\\phi_2) + m_2L_1L_2\\dot\\phi_2^2\\sin(\\phi_1-\\phi_2)\n",
        "\\end{align}$\n",
        "\n",
        "\n",
        "\\\\\n",
        "$\\begin{align}\n",
        "   \\frac{d}{dt}\\frac{\\partial\\mathcal{L}}{\\partial \\dot\\phi_2} =\\frac{\\partial\\mathcal L}{\\partial\\phi_2}\n",
        "   \\quad\\Longrightarrow\\quad m_2L_1L_2\\ddot\\phi_1\\cos(\\phi_1-\\phi_2) - m_2L_1L_2\\dot\\phi_1^2\\sin(\\phi_1-\\phi_2) + m_2L_2^2\\ddot\\phi_2 = -m_2gL_2\\sin\\phi_2\n",
        "\\end{align}$\n",
        "\n",
        "\\\\\n",
        "$\\begin{align}\n",
        "\\frac{\\partial\\mathcal L}{\\partial\\phi_2} = m_2L_1L_2\\dot\\phi_1\\dot\\phi_2\\sin(\\phi_1-\\phi_2)-m_2gL_2\\sin\\phi_2\n",
        "\\end{align}$\n",
        "\n",
        "\\\\\n",
        "$\\begin{align}\n",
        "   \\frac{\\partial\\mathcal{L}}{\\partial \\dot\\phi_2} = m_2L_1L_2\\dot\\phi_1\\cos(\\phi_1-\\phi_2) + m_2L_2^2\\dot\\phi_2\n",
        "\\end{align}$\n",
        "\n",
        "\\\\\n",
        "$\\begin{align}\n",
        "   \\frac{d}{dt}\\frac{\\partial\\mathcal{L}}{\\partial \\dot\\phi_2} = m_2L_1L_2\\ddot\\phi_1\\cos(\\phi_1-\\phi_2) +m_2L_1L_2\\dot\\phi_1\\dot\\phi_2\\sin(\\phi_1-\\phi_2) - m_2L_1L_2\\dot\\phi_1^2\\sin(\\phi_1-\\phi_2) + m_2L_2^2\\ddot\\phi_2\n",
        "\\end{align}$"
      ],
      "metadata": {
        "id": "6X4n0LdLQtSs"
      }
    },
    {
      "cell_type": "markdown",
      "source": [
        "Invert the equations to get $\\ddot\\phi_1$ and $\\ddot\\phi_2$:\n",
        "\n",
        "$\\begin{align}\n",
        "  \\ddot\\phi_1 = \\frac{CD - BE}{AC-B^2}\n",
        "\\end{align}$\n",
        "\n",
        "$\\begin{align}\n",
        "  \\ddot\\phi_2 = \\frac{AE - BD}{AC-B^2}\n",
        "\\end{align}$\n",
        "\n",
        "where \n",
        "\n",
        "\\\\\n",
        "$\\begin{align}\n",
        "  \\ddot\\phi_2 = \\frac{AE - BD}{AC-B^2}\n",
        "\\end{align}$             "
      ],
      "metadata": {
        "id": "S3XD-LxkKxwY"
      }
    },
    {
      "cell_type": "markdown",
      "source": [
        "## Hamilton's Equations"
      ],
      "metadata": {
        "id": "TYKT2K6E4yZq"
      }
    },
    {
      "cell_type": "markdown",
      "source": [
        "\n",
        "The generalized momenta for each of the generalized coordinates:\n",
        "\n",
        "\\\\\n",
        "$\\begin{align}\n",
        "   \\frac{\\partial\\mathcal{L}}{\\partial \\dot\\phi_1} =(m_1+m_2)L_1^2\\dot\\phi_1+m_2L_1L_2\\dot\\phi_2\\cos(\\phi_1-\\phi_2) \\equiv p_{\\phi_1}\n",
        "\\end{align}$ \n",
        "\n",
        "\\\\\n",
        "$\\begin{align}\n",
        "   \\frac{\\partial\\mathcal{L}}{\\partial \\dot\\phi_2} = m_2L_1L_2\\dot\\phi_1\\cos(\\phi_1-\\phi_2) + m_2L_2^2\\dot\\phi_2 \\equiv p_{\\phi_2}\n",
        "\\end{align}$\n",
        "\n",
        "\\\\\n",
        "Rearrange the two equations to get $\\dot\\phi_1$ and $\\dot\\phi_2$:\n",
        "\n",
        "\\\\\n",
        "$\\begin{align}\n",
        "   \\dot\\phi_1=\\frac{C p_{\\phi_1} - B \\cos(\\phi_1-\\phi_2)p_{\\phi_2}}{AC -\\left[B\\cos(\\phi_1-\\phi_2)\\right]^2}\n",
        "\\end{align}$\n",
        "\n",
        "\\\\\n",
        "$\\begin{align}\n",
        "   \\dot\\phi_2=\\frac{A{\\phi_2} - B\\cos(\\phi_1-\\phi_2)p_{\\phi_1}}{AC -\\left[B\\cos(\\phi_1-\\phi_2)\\right]^2}\n",
        "\\end{align}$ \n",
        "\n",
        "\n",
        "where\n",
        "\n",
        "$\\begin{align}\n",
        "  A = (m_1+m_2)L_1^2\n",
        "\\end{align}$ \n",
        "\n",
        "$\\begin{align}\n",
        " B = m_2L_1L_2\n",
        "\\end{align}$ \n",
        "\n",
        "$\\begin{align}\n",
        " C = m_2L_2^2\n",
        "\\end{align}$\n",
        "\n",
        "are constants. (unit: kg m^2) \n",
        "\n",
        "\n",
        "\n",
        "\\\\\n",
        "Substitute both of $\\dot\\phi_1$ and $\\dot\\phi_2$ in the Lagrangian:\n",
        "\n",
        "\\\\\n",
        "$\\begin{align}\n",
        "  \\mathcal{L} &= \\frac{1}{2}(m_1 + m_2) L^2_1 \\dot\\phi_1^2 + m_2L_1L_2\\dot\\phi_1\\dot\\phi_2\\cos(\\phi_1-\\phi_2) + \\frac{1}{2}m_2 L^2_2 \\dot\\phi_2^2 - (m_1 + m_2) g L_1 (1-\\cos\\phi_1) - m_2 g L_2 (1-\\cos\\phi_2) \\\\\n",
        "  \\\\\n",
        "  &= \\frac{1}{2}A \\left(\\frac{C p_{\\phi_1} - B\\cos(\\phi_1-\\phi_2) p_{\\phi_2}}{AC -\\left[B\\cos(\\phi_1-\\phi_2)\\right]^2}\\right)^2 + B\\left[\\frac{(C p_{\\phi_1} - B\\cos(\\phi_1-\\phi_2) p_{\\phi_2})(A{\\phi_2} - B\\cos(\\phi_1-\\phi_2)p_{\\phi_1})}{(AC -\\left[B\\cos(\\phi_1-\\phi_2)\\right]^2}\\right]cos(\\phi_1-\\phi_2) \\\\\n",
        "  \\\\\n",
        "  &\\ +\\frac{1}{2}C \\left(\\frac{A{\\phi_2} - B\\cos(\\phi_1-\\phi_2)p_{\\phi_1}}{AC -\\left[B\\cos(\\phi_1-\\phi_2)\\right]^2}\\right)^2 - (m_1 + m_2) g L_1 (1-\\cos\\phi_1) - m_2 g L_2 (1-\\cos\\phi_2)\n",
        "\\end{align}$  \n",
        "\n",
        "  \n",
        "\n",
        "\n",
        "\\\\\n",
        "Then, form the Hamiltonian:\n",
        "\n",
        "\\\\\n",
        "$\\begin{align}\n",
        "  \\mathcal{H} &= \\sum \\dot\\phi_ip_{\\phi_i} - \\mathcal{L} \\\\\n",
        "              \\\\\n",
        "              &= \\dot\\phi_1p_{\\phi_1}+\\dot\\phi_2p_{\\phi_2}- \\mathcal{L} \\\\\n",
        "              \\\\\n",
        "              &= \\frac{C p_{\\phi_1} - B \\cos(\\phi_1-\\phi_2)p_{\\phi_2}}{AC -\\left[B\\cos(\\phi_1-\\phi_2)\\right]^2} p_{\\phi_1} + \\frac{A{\\phi_2} - B\\cos(\\phi_1-\\phi_2)p_{\\phi_1}}{AC -\\left[B\\cos(\\phi_1-\\phi_2)\\right]^2}p_{\\phi_2}- \\mathcal{L}\n",
        "\\end{align}$\n",
        "\n",
        "\\\\\n",
        "Then, the Hamilton's Equations:\n",
        "\n",
        "\\\\\n",
        "$\\begin{align}\n",
        "  \\dot\\phi_1 = \\frac{\\partial \\mathcal{H}}{\\partial p_{\\phi_1}}\n",
        "\\end{align}$\n",
        "\n",
        "\\\\\n",
        "$\\begin{align}\n",
        "  \\dot\\phi_2 = \\frac{\\partial \\mathcal{H}}{\\partial p_{\\phi_2}}\n",
        "\\end{align}$\n",
        "\n",
        "\\\\\n",
        "$\\begin{align}\n",
        "  \\dot p_{\\phi_1} = -\\frac{\\partial \\mathcal{H}}{\\partial \\dot\\phi_1}\n",
        "\\end{align}$\n",
        "\n",
        "\\\\\n",
        "$\\begin{align}\n",
        "  \\dot p_{\\phi_2} = -\\frac{\\partial \\mathcal{H}}{\\partial \\dot\\phi_2}\n",
        "\\end{align}$\n"
      ],
      "metadata": {
        "id": "56oiNnwoh5MQ"
      }
    },
    {
      "cell_type": "markdown",
      "source": [
        "## Code"
      ],
      "metadata": {
        "id": "K94Lmkuk44F-"
      }
    },
    {
      "cell_type": "code",
      "source": [
        ""
      ],
      "metadata": {
        "id": "gggyk9TEN2P2"
      },
      "execution_count": null,
      "outputs": []
    },
    {
      "cell_type": "code",
      "source": [
        ""
      ],
      "metadata": {
        "id": "2L6pEGzbuf8c"
      },
      "execution_count": null,
      "outputs": []
    },
    {
      "cell_type": "code",
      "source": [
        ""
      ],
      "metadata": {
        "id": "6r-80FsdEwtC"
      },
      "execution_count": null,
      "outputs": []
    },
    {
      "cell_type": "code",
      "source": [
        ""
      ],
      "metadata": {
        "id": "mv-vPoRprKDG"
      },
      "execution_count": null,
      "outputs": []
    },
    {
      "cell_type": "code",
      "execution_count": null,
      "metadata": {
        "id": "C3Cg4KYdD_1P"
      },
      "outputs": [],
      "source": [
        ""
      ]
    },
    {
      "cell_type": "code",
      "source": [
        ""
      ],
      "metadata": {
        "id": "e2rMYfHTE6YV"
      },
      "execution_count": null,
      "outputs": []
    },
    {
      "cell_type": "code",
      "source": [
        ""
      ],
      "metadata": {
        "id": "MUKJ-wvkFZKa"
      },
      "execution_count": null,
      "outputs": []
    }
  ]
}