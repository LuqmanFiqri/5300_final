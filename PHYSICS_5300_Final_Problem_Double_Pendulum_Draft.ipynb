{
  "nbformat": 4,
  "nbformat_minor": 0,
  "metadata": {
    "colab": {
      "name": "PHYSICS_5300_Final_Problem_Double_Pendulum_Draft.ipynb",
      "provenance": [],
      "authorship_tag": "ABX9TyNq0YQ1FWA37v9x3vDleCvu",
      "include_colab_link": true
    },
    "kernelspec": {
      "name": "python3",
      "display_name": "Python 3"
    },
    "language_info": {
      "name": "python"
    }
  },
  "cells": [
    {
      "cell_type": "markdown",
      "metadata": {
        "id": "view-in-github",
        "colab_type": "text"
      },
      "source": [
        "<a href=\"https://colab.research.google.com/github/LuqmanFiqri/5300_final/blob/main/PHYSICS_5300_Final_Problem_Double_Pendulum_Draft.ipynb\" target=\"_parent\"><img src=\"https://colab.research.google.com/assets/colab-badge.svg\" alt=\"Open In Colab\"/></a>"
      ]
    },
    {
      "cell_type": "markdown",
      "source": [
        "# Double Pendulum\n",
        "\n",
        "This section solves the double pendulum problem using Euler-Lagrange's Equations.\n",
        "\n",
        "The generalized coordinates for this problem is $\\phi_1$ and $\\phi_2$.\n"
      ],
      "metadata": {
        "id": "ccuxT42PExCK"
      }
    },
    {
      "cell_type": "markdown",
      "source": [
        "## Euler-Lagrange's Equations"
      ],
      "metadata": {
        "id": "-qr-9dUWMVAk"
      }
    },
    {
      "cell_type": "markdown",
      "source": [
        "The Lagrangian correspond to the system:\n",
        "\n",
        "\\\\\n",
        "$\\begin{align}\n",
        "  \\mathcal{L} = T - U\n",
        "\\end{align}$\n",
        "\n",
        "\\\\\n",
        "$\\begin{align}\n",
        "  T = \\frac{1}{2}(m_1 + m_2) L^2_1 \\dot\\phi_1^2 + m_2L_1L_2\\dot\\phi_1\\dot\\phi_2\\cos(\\phi_1-\\phi_2) + \\frac{1}{2}m_2 L^2_2\\dot\\phi_2^2\n",
        "\\end{align}$\n",
        "\n",
        "\\\\\n",
        "$\\begin{align}\n",
        "  U = (m_1 + m_2) g L_1 (1-\\cos\\phi_1) + m_2 g L_2 (1-\\cos\\phi_2)\n",
        "\\end{align}$\n",
        "\n",
        "\\\\\n",
        "$\\begin{align}\n",
        "  \\mathcal{L} = \\frac{1}{2}(m_1 + m_2) L^2_1 \\dot\\phi_1^2 + m_2L_1L_2\\dot\\phi_1\\dot\\phi_2\\cos(\\phi_1-\\phi_2) + \\frac{1}{2}m_2 L^2_2 \\dot\\phi_2^2 - (m_1 + m_2) g L_1 (1-\\cos\\phi_1) - m_2 g L_2 (1-\\cos\\phi_2)\n",
        "      \\;.\n",
        "\\end{align}$"
      ],
      "metadata": {
        "id": "hBnHIt3rLjaI"
      }
    },
    {
      "cell_type": "markdown",
      "source": [
        "The Euler-Lagrange Equations:\n",
        "\n",
        "\\\\\n",
        "$\\begin{align}\n",
        "   \\frac{d}{dt}\\frac{\\partial\\mathcal{L}}{\\partial \\dot\\phi_1} =\\frac{\\partial\\mathcal L}{\\partial\\phi_1}\n",
        "   \\quad\\Longrightarrow\\quad (m_1+m_2)L_1^2\\ddot\\phi_1+m_2L_1L_2\\ddot\\phi_2\\cos(\\phi_1-\\phi_2) + m_2L_1L_2\\dot\\phi_2^2\\sin(\\phi_1-\\phi_2) = -(m_1+m_2)gL_1\\sin\\phi_1\n",
        "\\end{align}$\n",
        "\n",
        "\\\\\n",
        "$\\begin{align}\n",
        "   \\frac{d}{dt}\\frac{\\partial\\mathcal{L}}{\\partial \\dot\\phi_2} =\\frac{\\partial\\mathcal L}{\\partial\\phi_2}\n",
        "   \\quad\\Longrightarrow\\quad m_2L_1L_2\\ddot\\phi_1\\cos(\\phi_1-\\phi_2) - m_2L_1L_2\\dot\\phi_1^2\\sin(\\phi_1-\\phi_2) + m_2L_2^2\\ddot\\phi_2 = -m_2gL_2\\sin\\phi_2\n",
        "\\end{align}$\n"
      ],
      "metadata": {
        "id": "6X4n0LdLQtSs"
      }
    },
    {
      "cell_type": "markdown",
      "source": [
        "Invert the equations to get $\\ddot\\phi_1$ and $\\ddot\\phi_2$:\n",
        "\n",
        "$\\begin{align}\n",
        "  \\ddot\\phi_1 = \\frac{DE - BF}{AD-BC}\n",
        "\\end{align}$\n",
        "\n",
        "$\\begin{align}\n",
        "  \\ddot\\phi_2 = \\frac{AF - CE}{AD-BC}\n",
        "\\end{align}$\n",
        "\n",
        "where \n",
        "\n",
        "\\\\\n",
        "$\\begin{align}\n",
        "  A = (m_1 + m_2)L_1\n",
        "\\end{align}$\n",
        "\n",
        "$\\begin{align}\n",
        "  B = m_2L_2\\cos(\\phi_1 - \\phi_2)\n",
        "\\end{align}$\n",
        "\n",
        "$\\begin{align}\n",
        "  C = m_2L_1\\cos(\\phi_1 - \\phi_2)\n",
        "\\end{align}$ \n",
        "\n",
        "$\\begin{align}\n",
        "  D = m_2L_2\n",
        "\\end{align}$\n",
        "\n",
        "$\\begin{align}\n",
        "  E = -(m_1+m_2)g\\sin(\\phi_1) - m_2L_2\\dot\\phi_2^2\\sin(\\phi_1 - \\phi_2)\n",
        "\\end{align}$ \n",
        "\n",
        "$\\begin{align}\n",
        "  F = -m_2g\\sin(\\phi_2) + m_2L_1\\dot\\phi_1^2\\sin(\\phi_1 - \\phi_2)\n",
        "\\end{align}$   "
      ],
      "metadata": {
        "id": "S3XD-LxkKxwY"
      }
    },
    {
      "cell_type": "markdown",
      "source": [
        "Then, make a vector to create the code such that:\n",
        "\n",
        "$\\begin{align}\n",
        " \\mathbf{Y}(t) = \\left(\\begin{array}{c}\n",
        "                         \\phi_1(t) \\\\\n",
        "                         \\dot\\phi_1(t) \\\\\n",
        "                         \\phi_2(t) \\\\\n",
        "                         \\dot\\phi_2(t)\n",
        "                        \\end{array}\n",
        "                  \\right)\n",
        "  \\quad\\Longrightarrow\\quad\n",
        "\\mathbf{\\dot Y}(t) = \\left(\\begin{array}{c}\n",
        "                         \\dot\\phi_1(t) \\\\\n",
        "                         \\ddot\\phi_1(t) \\\\           \n",
        "                         \\dot\\phi_2(t) \\\\\n",
        "                         \\ddot\\phi_2(t)\n",
        "                        \\end{array}\n",
        "                  \\right)  \n",
        "\\end{align}$"
      ],
      "metadata": {
        "id": "dbqWHoCSPcdM"
      }
    },
    {
      "cell_type": "markdown",
      "source": [
        "## Code\n",
        "\n",
        "This section consists of all the code used for the problem\n",
        "\n"
      ],
      "metadata": {
        "id": "5VTDgX_Lg-FS"
      }
    },
    {
      "cell_type": "markdown",
      "source": [
        "### Libraries, Class and Functions"
      ],
      "metadata": {
        "id": "0gNmWNy9g20L"
      }
    },
    {
      "cell_type": "code",
      "source": [
        "%matplotlib inline"
      ],
      "metadata": {
        "id": "Tws-5j9xUOSg"
      },
      "execution_count": 1,
      "outputs": []
    },
    {
      "cell_type": "code",
      "source": [
        "import numpy as np\n",
        "from scipy.integrate import odeint, solve_ivp\n",
        "\n",
        "import matplotlib.pyplot as plt"
      ],
      "metadata": {
        "id": "kAZbfYFiUPul"
      },
      "execution_count": 2,
      "outputs": []
    },
    {
      "cell_type": "code",
      "source": [
        "# The dpi (dots-per-inch) setting will affect the resolution and how large\n",
        "#  the plots appear on screen and printed.  So you may want/need to adjust \n",
        "#  the figsize when creating the figure.\n",
        "plt.rcParams['figure.dpi'] = 100.    # this is the default for notebook\n",
        "\n",
        "# Change the common font size (smaller when higher dpi)\n",
        "font_size = 10\n",
        "plt.rcParams.update({'font.size': font_size})"
      ],
      "metadata": {
        "id": "iRO96rnlURQC"
      },
      "execution_count": 3,
      "outputs": []
    },
    {
      "cell_type": "code",
      "source": [
        "class doublePendulum():\n",
        "    \"\"\"\n",
        "    doublePendulum class implements the parameters and differential equation for \n",
        "     a double pendulum using the notation from Taylor.\n",
        "     \n",
        "    Parameters\n",
        "    ----------\n",
        "    m1 : float\n",
        "        first mass of pendulum \n",
        "    m2 : float\n",
        "        second mass of pendulum \n",
        "    L1 : float\n",
        "        Length of first pendulum \n",
        "    L2 : float\n",
        "        Length of second pendulum\n",
        "    g : float\n",
        "        Gravitational Acceleration  \n",
        "\n",
        "\n",
        "    Methods\n",
        "    -------\n",
        "    dy_dt(t, y)\n",
        "        Returns the right side of the differential equation in vector y, \n",
        "        given time t and the corresponding value of y.\n",
        "    solve_ode\n",
        "        Returns the solution for the differential equations\n",
        "    \"\"\"\n",
        "\n",
        "    def __init__(self, m1=1., m2=1., L1=1, L2=1., g=1):\n",
        "        \n",
        "        self.m1 = m1\n",
        "        self.m2 = m2\n",
        "        self.L1 = L1\n",
        "        self.L2 = L2\n",
        "        self.g = g\n",
        "\n",
        "\n",
        "    def dy_dt(self, t, y):\n",
        "        \"\"\"\n",
        "        This function returns the right-hand side of the diffeq: \n",
        "        [phi_1_dot phi_1_ddot phi_2_dot phi_2_ddot]\n",
        "        \n",
        "        Parameters\n",
        "        ----------\n",
        "        t : float\n",
        "            time \n",
        "        y : float\n",
        "            A 2-component vector with y[0] = phi_1, y[1] = phi_1_dot, \n",
        "            y[2] = phi_2 and y[3] = phi_2_dot\n",
        "            \n",
        "        Returns\n",
        "        -------\n",
        "        [phi_1_dot phi_2_dot phi_1_ddot phi_2_ddot]\n",
        "        \"\"\"\n",
        "        A = (self.m1 + self.m2) * self.L1\n",
        "        B = self.m2 * self.L2 * np.cos(y[0] - y[2])  \n",
        "        C = self.m2 * self.L1 * np.cos(y[0] - y[2])  \n",
        "        D = self.m2 * self.L2\n",
        "        E = -(self.m1 + self.m2) * self.g * np.sin(y[0]) \\\n",
        "            - self.m2 * self.L2 * y[3]**2 * np.sin(y[0] - y[2])\n",
        "        F = -self.m2 * self.g * np.sin(y[2]) \\\n",
        "            + self.m2 * self.L1 * y[1]**2 * np.sin(y[0] - y[2])\n",
        "\n",
        "        phi_1_ddot = (D * E - B * F) / (A * D - B * C)\n",
        "        phi_2_ddot = (A * F - C * E) / (A * D - B * C)\n",
        "\n",
        "        return [y[1], phi_1_ddot, y[3],  phi_2_ddot]\n",
        "\n",
        "    \n",
        "    def solve_ode(self, t_pts, phi_1_0, phi_1_dot_0, phi_2_0, phi_2_dot_0,\n",
        "                  abserr=1.0e-10, relerr=1.0e-10):\n",
        "        \"\"\"\n",
        "        Solve the ODE given initial conditions.\n",
        "        For now use odeint, but we have the option to switch.\n",
        "        Specify smaller abserr and relerr to get more precision.\n",
        "        \"\"\"\n",
        "        y = [phi_1_0, phi_1_dot_0, phi_2_0, phi_2_dot_0] \n",
        "        solution = solve_ivp(self.dy_dt, (t_pts[0], t_pts[-1]), \n",
        "                             y, t_eval=t_pts, \n",
        "                             atol=abserr, rtol=relerr)\n",
        "        phi_1, phi_1_dot, phi_2, phi_2_dot = solution.y\n",
        "\n",
        "        return phi_1, phi_1_dot, phi_2, phi_2_dot\n",
        "\n",
        "    def calc_E(self,y):\n",
        "\n",
        "        \"\"\"\n",
        "        Return the total energy of the system\n",
        "\n",
        "        \"\"\"\n",
        "        phi_1, phi_1_dot, phi_2, phi_2_dot = y.T\n",
        "        \n",
        "        V =  (self.m1 + self.m2) * self.g * self.L1 * np.cos(1 - phi_1) \\\n",
        "            + self.m2 * self.g * self.L2 * np.cos(1 - phi_2)\n",
        "        T = 0.5 * (self.m1 + self.m2) * self.L1**2 * phi_1_dot**2 \\\n",
        "            + self.m2 * self.L1 * self.L2 * phi_1_dot * phi_2_dot * np.cos(phi_1 - phi_2) \\\n",
        "            + 0.5 * self.m2 * self.L2**2 * phi_2_dot**2\n",
        "        \n",
        "        return T + V\n",
        "\n"
      ],
      "metadata": {
        "id": "gggyk9TEN2P2"
      },
      "execution_count": 51,
      "outputs": []
    },
    {
      "cell_type": "code",
      "source": [
        "def plot_y_vs_x(x, y, axis_labels=None, label=None, title=None, \n",
        "                color=None, linestyle=None, semilogy=False, loglog=False,\n",
        "                ax=None):\n",
        "    \"\"\"\n",
        "    Generic plotting function: return a figure axis with a plot of y vs. x,\n",
        "    with line color and style, title, axis labels, and line label\n",
        "    \"\"\"\n",
        "    if ax is None:        # if the axis object doesn't exist, make one\n",
        "        ax = plt.gca()\n",
        "\n",
        "    if (semilogy):\n",
        "        line, = ax.semilogy(x, y, label=label, \n",
        "                            color=color, linestyle=linestyle)\n",
        "    elif (loglog):\n",
        "        line, = ax.loglog(x, y, label=label, \n",
        "                          color=color, linestyle=linestyle)\n",
        "    else:\n",
        "        line, = ax.plot(x, y, label=label, \n",
        "                    color=color, linestyle=linestyle)\n",
        "\n",
        "    if label is not None:    # if a label if passed, show the legend\n",
        "        ax.legend()\n",
        "    if title is not None:    # set a title if one if passed\n",
        "        ax.set_title(title)\n",
        "    if axis_labels is not None:  # set x-axis and y-axis labels if passed  \n",
        "        ax.set_xlabel(axis_labels[0])\n",
        "        ax.set_ylabel(axis_labels[1])\n",
        "\n",
        "    return ax, line"
      ],
      "metadata": {
        "id": "2L6pEGzbuf8c"
      },
      "execution_count": 65,
      "outputs": []
    },
    {
      "cell_type": "code",
      "source": [
        "def start_stop_indices(t_pts, plot_start, plot_stop):\n",
        "    start_index = (np.fabs(t_pts-plot_start)).argmin()  # index in t_pts array \n",
        "    stop_index = (np.fabs(t_pts-plot_stop)).argmin()  # index in t_pts array \n",
        "    return start_index, stop_index\n"
      ],
      "metadata": {
        "id": "6r-80FsdEwtC"
      },
      "execution_count": 48,
      "outputs": []
    },
    {
      "cell_type": "markdown",
      "source": [
        "### Main Code Execution for Double Pendulum\n",
        "This section consists of the main code for the plots and animation for the double pendulum"
      ],
      "metadata": {
        "id": "ea4z3dTihQ_U"
      }
    },
    {
      "cell_type": "markdown",
      "source": [
        "#### Plot Generation"
      ],
      "metadata": {
        "id": "SzLfyoB8bfHx"
      }
    },
    {
      "cell_type": "markdown",
      "source": [
        "This code generates the plot for $\\phi_1$ and $\\phi_2$ as a function of time"
      ],
      "metadata": {
        "id": "gZQm6SDJbLKh"
      }
    },
    {
      "cell_type": "code",
      "source": [
        "# Labels for individual plot axes\n",
        "phi_vs_time_labels = (r'$t$', r'$\\phi(t)$')\n",
        "\n",
        "\n",
        "\n",
        "# Common plotting time (generate the full time then use slices)\n",
        "t_start = 0.\n",
        "t_end = 50.\n",
        "delta_t = 0.0001\n",
        "\n",
        "t_pts = np.arange(t_start, t_end+delta_t, delta_t)  \n",
        "\n",
        "# Set the parameters\n",
        "L1 = 1.\n",
        "L2 = 1.\n",
        "m1 = 1.\n",
        "m2 = 1.\n",
        "g = 1.\n",
        "\n",
        "\n",
        "# Instantiate the double pendulum \n",
        "p1 = doublePendulum(m1=m1, m2=m2, L1=L1, L2=L2, g=g)"
      ],
      "metadata": {
        "id": "mv-vPoRprKDG"
      },
      "execution_count": 52,
      "outputs": []
    },
    {
      "cell_type": "code",
      "execution_count": 60,
      "metadata": {
        "id": "C3Cg4KYdD_1P",
        "colab": {
          "base_uri": "https://localhost:8080/",
          "height": 534
        },
        "outputId": "4e348fe6-bc1c-40ad-eacd-99dd6e834b26"
      },
      "outputs": [
        {
          "output_type": "display_data",
          "data": {
            "text/plain": [
              "<Figure size 1000x500 with 1 Axes>"
            ],
            "image/png": "[encoded data removed]"
          },
          "metadata": {
            "needs_background": "light"
          }
        }
      ],
      "source": [
        "# Set Initial Conditions\n",
        "phi_1_0 = np.pi/2\n",
        "phi_1_dot_0 = 0.\n",
        "phi_2_0 = np.pi\n",
        "phi_2_dot_0 = 0.\n",
        "\n",
        "# Solve for phi_1 and phi_2\n",
        "phi_1, phi_1_dot, phi_2, phi_2_dot = \\\n",
        "      p1.solve_ode(t_pts, phi_1_0, phi_1_dot_0, phi_2_0, phi_2_dot_0)\n",
        "\n",
        "# Create a plot\n",
        "fig1 = plt.figure(figsize=(10,5))\n",
        "overall_title = 'Double Pendulum from Lagrangian:  ' + \\\n",
        "                rf' $\\phi_1(0) = {phi_1_0:.2f},$' + \\\n",
        "                rf' $\\dot\\phi_1(0) = {phi_1_dot_0:.2f},$' + \\\n",
        "                rf' $\\phi_2(0) = {phi_2_0:.2f},$' + \\\n",
        "                rf' $\\dot\\phi_2(0) = {phi_2_dot_0:.2f},$' \n",
        "                # '\\n'     # \\n means a new line (adds some space here)\n",
        "fig1.suptitle(overall_title, va='baseline')\n",
        "\n",
        "ax_a = fig1.add_subplot(1,1,1)                  \n",
        "\n",
        "start, stop = start_stop_indices(t_pts, t_start, t_end)    \n",
        "plot_y_vs_x(t_pts[start : stop], phi_1[start : stop], \n",
        "            axis_labels=phi_vs_time_labels,\n",
        "            color='blue',\n",
        "            label=rf'$\\phi_1(t)$', \n",
        "            title=None,\n",
        "            ax=ax_a)\n",
        "\n",
        "start, stop = start_stop_indices(t_pts, t_start, t_end)    \n",
        "plot_y_vs_x(t_pts[start : stop], phi_2[start : stop], \n",
        "            color='red',\n",
        "            label=rf'$\\phi_2(t)$', \n",
        "            title=None,\n",
        "            ax=ax_a)      \n",
        "\n",
        "ax_a.grid()\n",
        "fig1.tight_layout()\n",
        "# fig1.savefig('double_pendulum_Lagrange_1.png', bbox_inches='tight')"
      ]
    },
    {
      "cell_type": "markdown",
      "source": [
        "#### Prove of Chaotic Motion for Double Pendulum"
      ],
      "metadata": {
        "id": "Uj0DF8qPboEx"
      }
    },
    {
      "cell_type": "code",
      "source": [
        "# Set Initial Conditions\n",
        "phi_1_0 = np.pi/2\n",
        "phi_1_dot_0 = 0.\n",
        "phi_2_0 = np.pi\n",
        "phi_2_dot_0 = 0.\n",
        "\n",
        "# Solve for phi_1 and phi_2 with different initial condition\n",
        "phi_1a, phi_1a_dot, phi_2a, phi_2a_dot = \\\n",
        "      p1.solve_ode(t_pts, phi_1_0, phi_1_dot_0, phi_2_0, phi_2_dot_0)\n",
        "phi_1b, phi_1b_dot, phi_2b, phi_2b_dot = \\\n",
        "      p1.solve_ode(t_pts, phi_1_0, phi_1_dot_0, phi_2_0-0.00001, phi_2_dot_0)\n",
        "\n",
        "# Take the difference\n",
        "diff_phi_1 = np.abs(phi_1a - phi_1b)\n",
        "diff_phi_2 = np.abs(phi_2a - phi_2b)\n",
        "\n",
        "# Create a plot\n",
        "fig2 = plt.figure(figsize=(10,5))\n",
        "overall_title = 'Double Pendulum from Lagrangian  ' \n",
        "                # rf' $\\phi_1(0) = {phi_1_0:.2f},$' + \\\n",
        "                # rf' $\\dot\\phi_1(0) = {phi_1_dot_0:.2f},$' + \\\n",
        "                # rf' $\\phi_2(0) = {phi_2_0:.2f},$' + \\\n",
        "                # rf' $\\dot\\phi_2(0) = {phi_2_dot_0:.2f},$' \n",
        "                # '\\n'     # \\n means a new line (adds some space here)\n",
        "fig2.suptitle(overall_title, va='baseline')\n",
        "\n",
        "ax_b = fig2.add_subplot(1,1,1)                  \n",
        "\n",
        "start, stop = start_stop_indices(t_pts, t_start, t_end)\n",
        "\n",
        "# Take the difference\n",
        "diff_phi_1 = np.abs(phi_1a[start : stop] - phi_1b[start : stop])\n",
        "diff_phi_2 = np.abs(phi_2a[start : stop] - phi_2b[start : stop])\n",
        "\n",
        "plot_y_vs_x(t_pts[start : stop], diff_phi_1, \n",
        "            axis_labels=phi_vs_time_labels,\n",
        "            color='blue',\n",
        "            semilogy=True,\n",
        "            label=rf'$\\Delta\\phi_1(t)$', \n",
        "            title=None,\n",
        "            ax=ax_b)\n",
        "\n",
        "   \n",
        "plot_y_vs_x(t_pts[start : stop], diff_phi_2, \n",
        "            color='red',\n",
        "            semilogy=True,\n",
        "            label=rf'$\\Delta\\phi_2(t)$', \n",
        "            title=None,\n",
        "            ax=ax_b)      \n",
        "\n",
        "ax_b.grid()\n",
        "fig2.tight_layout()"
      ],
      "metadata": {
        "id": "e2rMYfHTE6YV",
        "colab": {
          "base_uri": "https://localhost:8080/",
          "height": 526
        },
        "outputId": "730caecf-b88f-4ead-bd48-abe071a65cb1"
      },
      "execution_count": 70,
      "outputs": [
        {
          "output_type": "display_data",
          "data": {
            "text/plain": [
              "<Figure size 1000x500 with 1 Axes>"
            ],
            "image/png": "[encoded data removed]"
          },
          "metadata": {
            "needs_background": "light"
          }
        }
      ]
    },
    {
      "cell_type": "markdown",
      "source": [
        "To check whether the system is chaotic, we calculate the Liapunov Exponent:\n",
        "\n",
        "$\\begin{align}\n",
        "  \\Delta\\phi = Ke^{\\lambda t}\n",
        "\\end{align}$\n",
        "\n",
        "\\\\\n",
        "For $\\phi_1$, we get the $\\lambda$ value is around 1.04, which is a positive number, so the motion is chaotic.\n",
        "\n",
        "For $\\phi_1$, we get the $\\lambda$ value is around 0.34, which is a positive number, so the motion is chaotic.\n",
        "\n",
        "Therefore, the motion of the system is chaotic.\n"
      ],
      "metadata": {
        "id": "YOo8GJcjjATC"
      }
    },
    {
      "cell_type": "markdown",
      "source": [
        "# Triple Pendulum\n",
        "This section consists of the main code for the plots for the triple pendulum using Euler-Lagrange's Equations.\n",
        "\n",
        "The generalized coordinates for this problem is $\\phi_1$, $\\phi_2$ and $\\phi_3$."
      ],
      "metadata": {
        "id": "OIkxnJv6mC1A"
      }
    },
    {
      "cell_type": "markdown",
      "source": [
        "### Euler-Lagrange Equations\n",
        "\n"
      ],
      "metadata": {
        "id": "c-dv765BJYxP"
      }
    },
    {
      "cell_type": "markdown",
      "source": [
        "The Lagrangian for the systems:\n",
        "\n",
        "$\\begin{align}\n",
        "  \\mathcal{L} = T - U\n",
        "\\end{align}$\n",
        "\n",
        "\\\\\n",
        "$\\begin{align}\n",
        "  T = \\frac{1}{2}\\left(m_1+m_2+m_3\\right)L_1^2\\dot\\phi_1^2 + \n",
        "  \\frac{1}{2}\\left(m_2+m_3\\right)L_2^2\\dot\\phi_2^2 + \\frac{1}{2}m_3L_3^2\\dot\\phi_3^2 +\\left(m_2+m_3\\right)L_1L_2\\dot\\phi_1\\dot\\phi_2\\cos(\\phi_1-\\phi_2) + &\\ m_3L_2L_3\\dot\\phi_2\\dot\\phi_3\\cos(\\phi_2-\\phi_3) + m_3L_1L_3\\dot\\phi_1\\dot\\phi_3\\cos(\\phi_1-\\phi_3)\n",
        "\\end{align}$\n",
        "\n",
        "\\\\\n",
        "$\\begin{align}\n",
        "  U = (m_1 + m_2 + m_3)gL_1(1-\\cos\\phi_1) + (m_2 + m_3)gL_2(1-\\cos\\phi_2) + m_3gL_3(1-\\cos\\phi_3)\n",
        "\\end{align}$"
      ],
      "metadata": {
        "id": "k6ch4vztLGPX"
      }
    },
    {
      "cell_type": "markdown",
      "source": [
        "The Euler-Lagrange Equations:\n",
        "\n",
        "\\\\\n",
        "$\\begin{align}\n",
        "   \\frac{d}{dt}\\frac{\\partial\\mathcal{L}}{\\partial \\dot\\phi_1} =\\frac{\\partial\\mathcal L}{\\partial\\phi_1}\n",
        "   \\quad\\Longrightarrow\\quad (m_1+m_2+m_3)L_1\\ddot\\phi_1+(m_2+m_3)L_2\\ddot\\phi_2\\cos(\\phi_1-\\phi_2) + m_3L_3\\ddot\\phi_3\\cos(\\phi_1-\\phi_3) + (m_2+m_3)L_2\\dot\\phi_2^2\\sin(\\phi_1-\\phi_2)+m_3L_3\\dot\\phi_3^2\\sin(\\phi_1-\\phi_3)  = -(m_1+m_2+m_3)g\\sin\\phi_1 \n",
        "\\end{align}$\n",
        "\n",
        "\\\\\n",
        "$\\begin{align}\n",
        "   \\frac{d}{dt}\\frac{\\partial\\mathcal{L}}{\\partial \\dot\\phi_2} =\\frac{\\partial\\mathcal L}{\\partial\\phi_2}\n",
        "   \\quad\\Longrightarrow\\quad (m_2+m_3)L_1\\ddot\\phi_1\\cos(\\phi_1-\\phi_3) + m_2L_2\\ddot\\phi_2+(m_2+m_3)L_3\\ddot\\phi_3\\cos(\\phi_2-\\phi_3) - (m_2+m_3)L_1\\dot\\phi_1^2\\sin(\\phi_1-\\phi_2)+m_3L_3\\dot\\phi_3^2\\sin(\\phi_2-\\phi_3) = -(m_2+m_3)g\\sin\\phi_2 \n",
        "\\end{align}$\n",
        "\n",
        "\\\\\n",
        "$\\begin{align}\n",
        "   \\frac{d}{dt}\\frac{\\partial\\mathcal{L}}{\\partial \\dot\\phi_3} =\\frac{\\partial\\mathcal L}{\\partial\\phi_2}\n",
        "   \\quad\\Longrightarrow\\quad m_3L_1\\ddot\\phi_1\\cos(\\phi_1-\\phi_3) + m_3L_2\\ddot\\phi_2\\cos(\\phi_2-\\phi_3) + m_3L_3\\ddot\\phi_3 - m_3L_1\\dot\\phi_1^2\\sin(\\phi_1-\\phi_3) - m_3L_2\\dot\\phi_2^2\\sin(\\phi_2-\\phi_3)= -m_3g\\sin\\phi_3 \n",
        "\\end{align}$\n",
        "\n"
      ],
      "metadata": {
        "id": "blR3OcPiTPQ4"
      }
    },
    {
      "cell_type": "markdown",
      "source": [
        "Rearrange the equations and solve for $\\ddot\\phi_1$, $\\ddot\\phi_2$ and $\\ddot\\phi_3$ :\n",
        "\n"
      ],
      "metadata": {
        "id": "B4SJXmsAifn4"
      }
    },
    {
      "cell_type": "markdown",
      "source": [
        "Then, make a vector to create the code such that:\n",
        "\n",
        "$\\begin{align}\n",
        " \\mathbf{Y}(t) = \\left(\\begin{array}{c}\n",
        "                         \\phi_1(t) \\\\\n",
        "                         \\dot\\phi_1(t) \\\\\n",
        "                         \\phi_2(t) \\\\\n",
        "                         \\dot\\phi_2(t) \\\\\n",
        "                          \\phi_3(t) \\\\\n",
        "                         \\dot\\phi_3(t) \\\\\n",
        "                        \\end{array}\n",
        "                  \\right)\n",
        "  \\quad\\Longrightarrow\\quad\n",
        "\\mathbf{\\dot Y}(t) = \\left(\\begin{array}{c}\n",
        "                         \\dot\\phi_1(t) \\\\\n",
        "                         \\ddot\\phi_1(t) \\\\\n",
        "                         \\dot\\phi_2(t) \\\\\n",
        "                         \\ddot\\phi_2(t) \\\\           \n",
        "                         \\dot\\phi_3(t) \\\\\n",
        "                         \\ddot\\phi_3(t)\n",
        "                        \\end{array}\n",
        "                  \\right)  \n",
        "\\end{align}$"
      ],
      "metadata": {
        "id": "3uytCLEQi9Yv"
      }
    },
    {
      "cell_type": "code",
      "source": [
        ""
      ],
      "metadata": {
        "id": "MUKJ-wvkFZKa"
      },
      "execution_count": null,
      "outputs": []
    }
  ]
}